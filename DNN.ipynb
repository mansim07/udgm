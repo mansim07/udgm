{
 "cells": [
  {
   "cell_type": "code",
   "execution_count": 1,
   "metadata": {},
   "outputs": [],
   "source": [
    "import pandas as pd\n",
    "import numpy as np\n",
    "import tensorflow as tf\n",
    "\n",
    "import tensorflow as tf\n",
    "from tensorflow import keras\n",
    "from sklearn import preprocessing\n",
    "import matplotlib.pyplot as plt\n"
   ]
  },
  {
   "cell_type": "code",
   "execution_count": 2,
   "metadata": {},
   "outputs": [],
   "source": [
    "data = pd.read_csv('TrainingSet.csv')\n",
    "test = pd.read_csv('SubmissionRows.csv')"
   ]
  },
  {
   "cell_type": "code",
   "execution_count": 3,
   "metadata": {},
   "outputs": [
    {
     "data": {
      "text/plain": [
       "(195402, 40)"
      ]
     },
     "execution_count": 3,
     "metadata": {},
     "output_type": "execute_result"
    }
   ],
   "source": [
    "data.shape"
   ]
  },
  {
   "cell_type": "code",
   "execution_count": 4,
   "metadata": {},
   "outputs": [
    {
     "data": {
      "text/html": [
       "<div>\n",
       "<style scoped>\n",
       "    .dataframe tbody tr th:only-of-type {\n",
       "        vertical-align: middle;\n",
       "    }\n",
       "\n",
       "    .dataframe tbody tr th {\n",
       "        vertical-align: top;\n",
       "    }\n",
       "\n",
       "    .dataframe thead th {\n",
       "        text-align: right;\n",
       "    }\n",
       "</style>\n",
       "<table border=\"1\" class=\"dataframe\">\n",
       "  <thead>\n",
       "    <tr style=\"text-align: right;\">\n",
       "      <th></th>\n",
       "      <th>Unnamed: 0</th>\n",
       "      <th>1972 [YR1972]</th>\n",
       "      <th>1973 [YR1973]</th>\n",
       "      <th>1974 [YR1974]</th>\n",
       "      <th>1975 [YR1975]</th>\n",
       "      <th>1976 [YR1976]</th>\n",
       "      <th>1977 [YR1977]</th>\n",
       "      <th>1978 [YR1978]</th>\n",
       "      <th>1979 [YR1979]</th>\n",
       "      <th>1980 [YR1980]</th>\n",
       "      <th>...</th>\n",
       "      <th>2001 [YR2001]</th>\n",
       "      <th>2002 [YR2002]</th>\n",
       "      <th>2003 [YR2003]</th>\n",
       "      <th>2004 [YR2004]</th>\n",
       "      <th>2005 [YR2005]</th>\n",
       "      <th>2006 [YR2006]</th>\n",
       "      <th>2007 [YR2007]</th>\n",
       "      <th>Country Name</th>\n",
       "      <th>Series Code</th>\n",
       "      <th>Series Name</th>\n",
       "    </tr>\n",
       "  </thead>\n",
       "  <tbody>\n",
       "    <tr>\n",
       "      <th>0</th>\n",
       "      <td>0</td>\n",
       "      <td>NaN</td>\n",
       "      <td>NaN</td>\n",
       "      <td>NaN</td>\n",
       "      <td>NaN</td>\n",
       "      <td>NaN</td>\n",
       "      <td>NaN</td>\n",
       "      <td>NaN</td>\n",
       "      <td>NaN</td>\n",
       "      <td>NaN</td>\n",
       "      <td>...</td>\n",
       "      <td>NaN</td>\n",
       "      <td>NaN</td>\n",
       "      <td>NaN</td>\n",
       "      <td>NaN</td>\n",
       "      <td>NaN</td>\n",
       "      <td>NaN</td>\n",
       "      <td>3.769214</td>\n",
       "      <td>Afghanistan</td>\n",
       "      <td>allsi.bi_q1</td>\n",
       "      <td>(%) Benefits held by 1st 20% population - All ...</td>\n",
       "    </tr>\n",
       "    <tr>\n",
       "      <th>1</th>\n",
       "      <td>1</td>\n",
       "      <td>NaN</td>\n",
       "      <td>NaN</td>\n",
       "      <td>NaN</td>\n",
       "      <td>NaN</td>\n",
       "      <td>NaN</td>\n",
       "      <td>NaN</td>\n",
       "      <td>NaN</td>\n",
       "      <td>NaN</td>\n",
       "      <td>NaN</td>\n",
       "      <td>...</td>\n",
       "      <td>NaN</td>\n",
       "      <td>NaN</td>\n",
       "      <td>NaN</td>\n",
       "      <td>NaN</td>\n",
       "      <td>NaN</td>\n",
       "      <td>NaN</td>\n",
       "      <td>7.027746</td>\n",
       "      <td>Afghanistan</td>\n",
       "      <td>allsp.bi_q1</td>\n",
       "      <td>(%) Benefits held by 1st 20% population - All ...</td>\n",
       "    </tr>\n",
       "    <tr>\n",
       "      <th>2</th>\n",
       "      <td>2</td>\n",
       "      <td>NaN</td>\n",
       "      <td>NaN</td>\n",
       "      <td>NaN</td>\n",
       "      <td>NaN</td>\n",
       "      <td>NaN</td>\n",
       "      <td>NaN</td>\n",
       "      <td>NaN</td>\n",
       "      <td>NaN</td>\n",
       "      <td>NaN</td>\n",
       "      <td>...</td>\n",
       "      <td>NaN</td>\n",
       "      <td>NaN</td>\n",
       "      <td>NaN</td>\n",
       "      <td>NaN</td>\n",
       "      <td>NaN</td>\n",
       "      <td>NaN</td>\n",
       "      <td>8.244887</td>\n",
       "      <td>Afghanistan</td>\n",
       "      <td>allsa.bi_q1</td>\n",
       "      <td>(%) Benefits held by 1st 20% population - All ...</td>\n",
       "    </tr>\n",
       "    <tr>\n",
       "      <th>3</th>\n",
       "      <td>4</td>\n",
       "      <td>NaN</td>\n",
       "      <td>NaN</td>\n",
       "      <td>NaN</td>\n",
       "      <td>NaN</td>\n",
       "      <td>NaN</td>\n",
       "      <td>NaN</td>\n",
       "      <td>NaN</td>\n",
       "      <td>NaN</td>\n",
       "      <td>NaN</td>\n",
       "      <td>...</td>\n",
       "      <td>NaN</td>\n",
       "      <td>NaN</td>\n",
       "      <td>NaN</td>\n",
       "      <td>NaN</td>\n",
       "      <td>NaN</td>\n",
       "      <td>NaN</td>\n",
       "      <td>12.933105</td>\n",
       "      <td>Afghanistan</td>\n",
       "      <td>allsi.gen_pop</td>\n",
       "      <td>(%) Generosity of All Social Insurance</td>\n",
       "    </tr>\n",
       "    <tr>\n",
       "      <th>4</th>\n",
       "      <td>5</td>\n",
       "      <td>NaN</td>\n",
       "      <td>NaN</td>\n",
       "      <td>NaN</td>\n",
       "      <td>NaN</td>\n",
       "      <td>NaN</td>\n",
       "      <td>NaN</td>\n",
       "      <td>NaN</td>\n",
       "      <td>NaN</td>\n",
       "      <td>NaN</td>\n",
       "      <td>...</td>\n",
       "      <td>NaN</td>\n",
       "      <td>NaN</td>\n",
       "      <td>NaN</td>\n",
       "      <td>NaN</td>\n",
       "      <td>NaN</td>\n",
       "      <td>NaN</td>\n",
       "      <td>18.996814</td>\n",
       "      <td>Afghanistan</td>\n",
       "      <td>allsp.gen_pop</td>\n",
       "      <td>(%) Generosity of All Social Protection</td>\n",
       "    </tr>\n",
       "  </tbody>\n",
       "</table>\n",
       "<p>5 rows × 40 columns</p>\n",
       "</div>"
      ],
      "text/plain": [
       "   Unnamed: 0  1972 [YR1972]  1973 [YR1973]  1974 [YR1974]  1975 [YR1975]  \\\n",
       "0           0            NaN            NaN            NaN            NaN   \n",
       "1           1            NaN            NaN            NaN            NaN   \n",
       "2           2            NaN            NaN            NaN            NaN   \n",
       "3           4            NaN            NaN            NaN            NaN   \n",
       "4           5            NaN            NaN            NaN            NaN   \n",
       "\n",
       "   1976 [YR1976]  1977 [YR1977]  1978 [YR1978]  1979 [YR1979]  1980 [YR1980]  \\\n",
       "0            NaN            NaN            NaN            NaN            NaN   \n",
       "1            NaN            NaN            NaN            NaN            NaN   \n",
       "2            NaN            NaN            NaN            NaN            NaN   \n",
       "3            NaN            NaN            NaN            NaN            NaN   \n",
       "4            NaN            NaN            NaN            NaN            NaN   \n",
       "\n",
       "   ...  2001 [YR2001]  2002 [YR2002]  2003 [YR2003]  2004 [YR2004]  \\\n",
       "0  ...            NaN            NaN            NaN            NaN   \n",
       "1  ...            NaN            NaN            NaN            NaN   \n",
       "2  ...            NaN            NaN            NaN            NaN   \n",
       "3  ...            NaN            NaN            NaN            NaN   \n",
       "4  ...            NaN            NaN            NaN            NaN   \n",
       "\n",
       "   2005 [YR2005]  2006 [YR2006]  2007 [YR2007]  Country Name    Series Code  \\\n",
       "0            NaN            NaN       3.769214   Afghanistan    allsi.bi_q1   \n",
       "1            NaN            NaN       7.027746   Afghanistan    allsp.bi_q1   \n",
       "2            NaN            NaN       8.244887   Afghanistan    allsa.bi_q1   \n",
       "3            NaN            NaN      12.933105   Afghanistan  allsi.gen_pop   \n",
       "4            NaN            NaN      18.996814   Afghanistan  allsp.gen_pop   \n",
       "\n",
       "                                         Series Name  \n",
       "0  (%) Benefits held by 1st 20% population - All ...  \n",
       "1  (%) Benefits held by 1st 20% population - All ...  \n",
       "2  (%) Benefits held by 1st 20% population - All ...  \n",
       "3             (%) Generosity of All Social Insurance  \n",
       "4            (%) Generosity of All Social Protection  \n",
       "\n",
       "[5 rows x 40 columns]"
      ]
     },
     "execution_count": 4,
     "metadata": {},
     "output_type": "execute_result"
    }
   ],
   "source": [
    "data.head()"
   ]
  },
  {
   "cell_type": "code",
   "execution_count": 5,
   "metadata": {},
   "outputs": [
    {
     "data": {
      "text/plain": [
       "(737, 3)"
      ]
     },
     "execution_count": 5,
     "metadata": {},
     "output_type": "execute_result"
    }
   ],
   "source": [
    "test.shape"
   ]
  },
  {
   "cell_type": "code",
   "execution_count": 6,
   "metadata": {},
   "outputs": [],
   "source": [
    "trainingData = data.copy()"
   ]
  },
  {
   "cell_type": "code",
   "execution_count": 7,
   "metadata": {},
   "outputs": [
    {
     "data": {
      "text/plain": [
       "Index(['Unnamed: 0', '1972 [YR1972]', '1973 [YR1973]', '1974 [YR1974]',\n",
       "       '1975 [YR1975]', '1976 [YR1976]', '1977 [YR1977]', '1978 [YR1978]',\n",
       "       '1979 [YR1979]', '1980 [YR1980]', '1981 [YR1981]', '1982 [YR1982]',\n",
       "       '1983 [YR1983]', '1984 [YR1984]', '1985 [YR1985]', '1986 [YR1986]',\n",
       "       '1987 [YR1987]', '1988 [YR1988]', '1989 [YR1989]', '1990 [YR1990]',\n",
       "       '1991 [YR1991]', '1992 [YR1992]', '1993 [YR1993]', '1994 [YR1994]',\n",
       "       '1995 [YR1995]', '1996 [YR1996]', '1997 [YR1997]', '1998 [YR1998]',\n",
       "       '1999 [YR1999]', '2000 [YR2000]', '2001 [YR2001]', '2002 [YR2002]',\n",
       "       '2003 [YR2003]', '2004 [YR2004]', '2005 [YR2005]', '2006 [YR2006]',\n",
       "       '2007 [YR2007]', 'Country Name', 'Series Code', 'Series Name'],\n",
       "      dtype='object')"
      ]
     },
     "execution_count": 7,
     "metadata": {},
     "output_type": "execute_result"
    }
   ],
   "source": [
    "trainingData.columns"
   ]
  },
  {
   "cell_type": "code",
   "execution_count": 8,
   "metadata": {},
   "outputs": [],
   "source": [
    "def setLogVal(X,colName):\n",
    "    X=X.mask(X==0,1)\n",
    "    if(X.name == colName):\n",
    "        X = np.log10(X)\n",
    "    return X\n",
    "\n",
    "def cleanData(data,targetCol,dropCol,threshold =10, training = True):\n",
    "    #targetColList = [targetCol]\n",
    "    if(training == True):\n",
    "        data = data.dropna(subset=[targetCol]) # will drop all rows with na values for this column\n",
    "    data = data.dropna(how='all') #will drop all rows which have na values for all columns in dataframe\n",
    "    #data = data.dropna(thresh=threshold) # will drop all rows which have total na values in columns greater than threshold\n",
    "    # dont need indicator as this is just like index and has different number for same series and different countries\n",
    "    data = data.drop(dropCol, axis=1) \n",
    "    # get log value of y(2007) and drop all NAN\n",
    "    if(training == True):\n",
    "        data = data.apply(lambda x: setLogVal(x,targetCol),axis=0)\n",
    "        data = data.dropna(subset = [targetCol]) # to remove all NAN due to log value\n",
    "        y = data[targetCol]\n",
    "    else:\n",
    "        y = None\n",
    "    return data,y\n",
    "\n",
    "\n",
    "    \n",
    "\n",
    "    "
   ]
  },
  {
   "cell_type": "code",
   "execution_count": 9,
   "metadata": {},
   "outputs": [],
   "source": [
    "def preprocessData(data, NAHandlingMethod, scaler,training = True):\n",
    "    # if preparing training data numeric data does not include 2007 else all years are numeric data\n",
    "    if(training == True):\n",
    "        data_num = data.iloc[:,:-3]\n",
    "        data_cat = data.iloc[:,-2:]\n",
    "    else:\n",
    "        data_num = data.iloc[:,:-2]\n",
    "        data_cat = data.iloc[:,-2:]\n",
    "    print('numeric columns are : ', data_num.columns)\n",
    "    print('categorical columns are : ', data_cat.columns)\n",
    "    if(NAHandlingMethod == 'mean'):\n",
    "        data_num = data_num.apply(lambda x: x.fillna(x.mean(),axis=0))\n",
    "    else:\n",
    "        data_num = data_num.apply(lambda x: x.fillna(0),axis=0)\n",
    "    data_num = data_num.round(2)\n",
    "    data_num_scaled= scaler.fit_transform(data_num)\n",
    "    data_cat = pd.get_dummies(data_cat)\n",
    "    data_num_scaled_df= pd.DataFrame(data_num_scaled,columns=data_num.columns,index=data_num.index)\n",
    "    data_traininable = data_num_scaled_df.merge(data_cat,left_index=True,right_index=True)\n",
    "    return data_traininable"
   ]
  },
  {
   "cell_type": "code",
   "execution_count": 10,
   "metadata": {},
   "outputs": [],
   "source": [
    "def getTrainableData(data,scaler,NAHandlingMethod,dropRowsAllNAFromCol,threshold,dropCol):\n",
    "    X,y = cleanData(data,dropRowsAllNAFromCol,dropCol,threshold,True)\n",
    "    X = preprocessData(X,0,scaler,True)\n",
    "    X_train,y_train,X_val,y_val = X[:100000],y[:100000],X[100000:],y[100000:]\n",
    "    return X_train,y_train,X_val,y_val\n",
    "    \n",
    "    \n",
    "    "
   ]
  },
  {
   "cell_type": "code",
   "execution_count": 11,
   "metadata": {},
   "outputs": [
    {
     "name": "stderr",
     "output_type": "stream",
     "text": [
      "/Users/ushadevi/HandsOnML/Chapter2/Example/MLenv/lib/python3.7/site-packages/pandas/core/series.py:679: RuntimeWarning: invalid value encountered in log10\n",
      "  result = getattr(ufunc, method)(*inputs, **kwargs)\n"
     ]
    },
    {
     "name": "stdout",
     "output_type": "stream",
     "text": [
      "numeric columns are :  Index(['1972 [YR1972]', '1973 [YR1973]', '1974 [YR1974]', '1975 [YR1975]',\n",
      "       '1976 [YR1976]', '1977 [YR1977]', '1978 [YR1978]', '1979 [YR1979]',\n",
      "       '1980 [YR1980]', '1981 [YR1981]', '1982 [YR1982]', '1983 [YR1983]',\n",
      "       '1984 [YR1984]', '1985 [YR1985]', '1986 [YR1986]', '1987 [YR1987]',\n",
      "       '1988 [YR1988]', '1989 [YR1989]', '1990 [YR1990]', '1991 [YR1991]',\n",
      "       '1992 [YR1992]', '1993 [YR1993]', '1994 [YR1994]', '1995 [YR1995]',\n",
      "       '1996 [YR1996]', '1997 [YR1997]', '1998 [YR1998]', '1999 [YR1999]',\n",
      "       '2000 [YR2000]', '2001 [YR2001]', '2002 [YR2002]', '2003 [YR2003]',\n",
      "       '2004 [YR2004]', '2005 [YR2005]', '2006 [YR2006]'],\n",
      "      dtype='object')\n",
      "categorical columns are :  Index(['Country Name', 'Series Code'], dtype='object')\n"
     ]
    }
   ],
   "source": [
    "min_max_scaler = preprocessing.MinMaxScaler()\n",
    "X_train,y_train,X_val,y_val = getTrainableData(trainingData,min_max_scaler,NAHandlingMethod=None,dropRowsAllNAFromCol='2007 [YR2007]',threshold=10,dropCol=[\"Series Name\",\"Unnamed: 0\"])\n",
    "\n",
    "\n"
   ]
  },
  {
   "cell_type": "code",
   "execution_count": 12,
   "metadata": {},
   "outputs": [
    {
     "data": {
      "text/plain": [
       "count    100000.000000\n",
       "mean          3.681606\n",
       "std           3.886242\n",
       "min         -17.061800\n",
       "25%           0.843839\n",
       "50%           1.810233\n",
       "75%           7.225057\n",
       "max          15.596695\n",
       "Name: 2007 [YR2007], dtype: float64"
      ]
     },
     "execution_count": 12,
     "metadata": {},
     "output_type": "execute_result"
    }
   ],
   "source": [
    "y_train.describe()\n"
   ]
  },
  {
   "cell_type": "code",
   "execution_count": 13,
   "metadata": {},
   "outputs": [
    {
     "data": {
      "text/plain": [
       "<matplotlib.collections.PathCollection at 0x7ffe50f57cc0>"
      ]
     },
     "execution_count": 13,
     "metadata": {},
     "output_type": "execute_result"
    },
    {
     "data": {
      "image/png": "[encoded data removed]",
      "text/plain": [
       "<Figure size 432x288 with 1 Axes>"
      ]
     },
     "metadata": {
      "needs_background": "light"
     },
     "output_type": "display_data"
    }
   ],
   "source": [
    "plt.scatter(y_train.index,y_train)"
   ]
  },
  {
   "cell_type": "code",
   "execution_count": 14,
   "metadata": {},
   "outputs": [
    {
     "data": {
      "text/plain": [
       "((100000, 1510), (100000,), (55772, 1510), (55772,))"
      ]
     },
     "execution_count": 14,
     "metadata": {},
     "output_type": "execute_result"
    }
   ],
   "source": [
    "X_train.shape,y_train.shape,X_val.shape,y_val.shape"
   ]
  },
  {
   "cell_type": "code",
   "execution_count": 15,
   "metadata": {},
   "outputs": [
    {
     "name": "stdout",
     "output_type": "stream",
     "text": [
      "Epoch 1/100\n",
      "3125/3125 [==============================] - 19s 6ms/step - loss: 8.0865 - val_loss: 4.6243\n",
      "Epoch 2/100\n",
      "3125/3125 [==============================] - 15s 5ms/step - loss: 2.4040 - val_loss: 3.7612\n",
      "Epoch 3/100\n",
      "3125/3125 [==============================] - 20s 6ms/step - loss: 1.9972 - val_loss: 3.4321\n",
      "Epoch 4/100\n",
      "3125/3125 [==============================] - 15s 5ms/step - loss: 1.7176 - val_loss: 3.2974\n",
      "Epoch 5/100\n",
      "3125/3125 [==============================] - 14s 5ms/step - loss: 1.4877 - val_loss: 3.1967\n",
      "Epoch 6/100\n",
      "3125/3125 [==============================] - 18s 6ms/step - loss: 1.3611 - val_loss: 3.1469\n",
      "Epoch 7/100\n",
      "3125/3125 [==============================] - 16s 5ms/step - loss: 1.2771 - val_loss: 3.1005\n",
      "Epoch 8/100\n",
      "3125/3125 [==============================] - 16s 5ms/step - loss: 1.1778 - val_loss: 3.0480\n",
      "Epoch 9/100\n",
      "3125/3125 [==============================] - 16s 5ms/step - loss: 1.1254 - val_loss: 3.0611\n",
      "Epoch 10/100\n",
      "3125/3125 [==============================] - 16s 5ms/step - loss: 1.0488 - val_loss: 3.0097\n",
      "Epoch 11/100\n",
      "3125/3125 [==============================] - 17s 6ms/step - loss: 1.0076 - val_loss: 3.0568\n",
      "Epoch 12/100\n",
      "3125/3125 [==============================] - 16s 5ms/step - loss: 0.9663 - val_loss: 3.0573\n",
      "Epoch 13/100\n",
      "3125/3125 [==============================] - 16s 5ms/step - loss: 0.9481 - val_loss: 3.0501\n",
      "Epoch 14/100\n",
      "3125/3125 [==============================] - 16s 5ms/step - loss: 0.8994 - val_loss: 3.0304\n",
      "Epoch 15/100\n",
      "3125/3125 [==============================] - 16s 5ms/step - loss: 0.8718 - val_loss: 3.0419\n",
      "Epoch 16/100\n",
      "3125/3125 [==============================] - 15s 5ms/step - loss: 0.8298 - val_loss: 3.0270\n",
      "Epoch 17/100\n",
      "3125/3125 [==============================] - 15s 5ms/step - loss: 0.8322 - val_loss: 3.0300\n",
      "Epoch 18/100\n",
      "3125/3125 [==============================] - 15s 5ms/step - loss: 0.7823 - val_loss: 3.0596\n",
      "Epoch 19/100\n",
      "3125/3125 [==============================] - 17s 5ms/step - loss: 0.7980 - val_loss: 3.0085\n",
      "Epoch 20/100\n",
      "3125/3125 [==============================] - 18s 6ms/step - loss: 0.7629 - val_loss: 3.0530\n",
      "Epoch 21/100\n",
      "3125/3125 [==============================] - 18s 6ms/step - loss: 0.7709 - val_loss: 3.0016\n",
      "Epoch 22/100\n",
      "3125/3125 [==============================] - 20s 7ms/step - loss: 0.7477 - val_loss: 3.0266\n",
      "Epoch 23/100\n",
      "3125/3125 [==============================] - 21s 7ms/step - loss: 0.7301 - val_loss: 2.9973\n",
      "Epoch 24/100\n",
      "3125/3125 [==============================] - 21s 7ms/step - loss: 0.7267 - val_loss: 2.9815\n",
      "Epoch 25/100\n",
      "3125/3125 [==============================] - 18s 6ms/step - loss: 0.7014 - val_loss: 2.9746\n",
      "Epoch 26/100\n",
      "3125/3125 [==============================] - 20s 7ms/step - loss: 0.6990 - val_loss: 2.9541\n",
      "Epoch 27/100\n",
      "3125/3125 [==============================] - 16s 5ms/step - loss: 0.6979 - val_loss: 2.9205\n",
      "Epoch 28/100\n",
      "3125/3125 [==============================] - 16s 5ms/step - loss: 0.6852 - val_loss: 2.9441\n",
      "Epoch 29/100\n",
      "3125/3125 [==============================] - 17s 6ms/step - loss: 0.6942 - val_loss: 2.9292\n",
      "Epoch 30/100\n",
      "3125/3125 [==============================] - 17s 5ms/step - loss: 0.6805 - val_loss: 2.9251\n",
      "Epoch 31/100\n",
      "3125/3125 [==============================] - 17s 6ms/step - loss: 0.6838 - val_loss: 2.8876\n",
      "Epoch 32/100\n",
      "3125/3125 [==============================] - 17s 5ms/step - loss: 0.6504 - val_loss: 2.8941\n",
      "Epoch 33/100\n",
      "3125/3125 [==============================] - 18s 6ms/step - loss: 0.6840 - val_loss: 2.8951\n",
      "Epoch 34/100\n",
      "3125/3125 [==============================] - 17s 6ms/step - loss: 0.6756 - val_loss: 2.8580\n",
      "Epoch 35/100\n",
      "3125/3125 [==============================] - 19s 6ms/step - loss: 0.6540 - val_loss: 2.8661\n",
      "Epoch 36/100\n",
      "3125/3125 [==============================] - 23s 7ms/step - loss: 0.6468 - val_loss: 2.8354\n",
      "Epoch 37/100\n",
      "3125/3125 [==============================] - 23s 7ms/step - loss: 0.6555 - val_loss: 2.8214\n",
      "Epoch 38/100\n",
      "3125/3125 [==============================] - 19s 6ms/step - loss: 0.6311 - val_loss: 2.8248\n",
      "Epoch 39/100\n",
      "3125/3125 [==============================] - 17s 6ms/step - loss: 0.6432 - val_loss: 2.8160\n",
      "Epoch 40/100\n",
      "3125/3125 [==============================] - 19s 6ms/step - loss: 0.6254 - val_loss: 2.8112\n",
      "Epoch 41/100\n",
      "3125/3125 [==============================] - 15s 5ms/step - loss: 0.6271 - val_loss: 2.7850\n",
      "Epoch 42/100\n",
      "3125/3125 [==============================] - 15s 5ms/step - loss: 0.6005 - val_loss: 2.8152\n",
      "Epoch 43/100\n",
      "3125/3125 [==============================] - 16s 5ms/step - loss: 0.6611 - val_loss: 2.8045\n",
      "Epoch 44/100\n",
      "3125/3125 [==============================] - 16s 5ms/step - loss: 0.6196 - val_loss: 2.7732\n",
      "Epoch 45/100\n",
      "3125/3125 [==============================] - 17s 5ms/step - loss: 0.6162 - val_loss: 2.7676\n",
      "Epoch 46/100\n",
      "3125/3125 [==============================] - 15s 5ms/step - loss: 0.6132 - val_loss: 2.7564\n",
      "Epoch 47/100\n",
      "3125/3125 [==============================] - 16s 5ms/step - loss: 0.6090 - val_loss: 2.7581\n",
      "Epoch 48/100\n",
      "3125/3125 [==============================] - 17s 5ms/step - loss: 0.5963 - val_loss: 2.7418\n",
      "Epoch 49/100\n",
      "3125/3125 [==============================] - 17s 5ms/step - loss: 0.6164 - val_loss: 2.7109\n",
      "Epoch 50/100\n",
      "3125/3125 [==============================] - 16s 5ms/step - loss: 0.6029 - val_loss: 2.7573\n",
      "Epoch 51/100\n",
      "3125/3125 [==============================] - 16s 5ms/step - loss: 0.6003 - val_loss: 2.7260\n",
      "Epoch 52/100\n",
      "3125/3125 [==============================] - 16s 5ms/step - loss: 0.6008 - val_loss: 2.7331\n",
      "Epoch 53/100\n",
      "3125/3125 [==============================] - 16s 5ms/step - loss: 0.6222 - val_loss: 2.7148\n",
      "Epoch 54/100\n",
      "3125/3125 [==============================] - 21s 7ms/step - loss: 0.5919 - val_loss: 2.7460\n",
      "Epoch 55/100\n",
      "3125/3125 [==============================] - 18s 6ms/step - loss: 0.5991 - val_loss: 2.6912\n",
      "Epoch 56/100\n",
      "3125/3125 [==============================] - 16s 5ms/step - loss: 0.5906 - val_loss: 2.6664\n",
      "Epoch 57/100\n",
      "3125/3125 [==============================] - 21s 7ms/step - loss: 0.5904 - val_loss: 2.6893\n",
      "Epoch 58/100\n",
      "3125/3125 [==============================] - 19s 6ms/step - loss: 0.5766 - val_loss: 2.6817\n",
      "Epoch 59/100\n",
      "3125/3125 [==============================] - 23s 7ms/step - loss: 0.5993 - val_loss: 2.6628\n",
      "Epoch 60/100\n",
      "3125/3125 [==============================] - 20s 6ms/step - loss: 0.5959 - val_loss: 2.6550\n",
      "Epoch 61/100\n",
      "3125/3125 [==============================] - 19s 6ms/step - loss: 0.5848 - val_loss: 2.6494\n",
      "Epoch 62/100\n",
      "3125/3125 [==============================] - 22s 7ms/step - loss: 0.5810 - val_loss: 2.6201\n",
      "Epoch 63/100\n",
      "3125/3125 [==============================] - 20s 6ms/step - loss: 0.5656 - val_loss: 2.6512\n",
      "Epoch 64/100\n",
      "3125/3125 [==============================] - 18s 6ms/step - loss: 0.5644 - val_loss: 2.6137\n",
      "Epoch 65/100\n",
      "3125/3125 [==============================] - 17s 5ms/step - loss: 0.5611 - val_loss: 2.6923\n",
      "Epoch 66/100\n",
      "3125/3125 [==============================] - 19s 6ms/step - loss: 0.5602 - val_loss: 2.6906\n",
      "Epoch 67/100\n",
      "3125/3125 [==============================] - 19s 6ms/step - loss: 0.5727 - val_loss: 2.5793\n",
      "Epoch 68/100\n",
      "3125/3125 [==============================] - 18s 6ms/step - loss: 0.5664 - val_loss: 2.6192\n",
      "Epoch 69/100\n",
      "3125/3125 [==============================] - 15s 5ms/step - loss: 0.5851 - val_loss: 2.5977\n",
      "Epoch 70/100\n",
      "3125/3125 [==============================] - 15s 5ms/step - loss: 0.5721 - val_loss: 2.5931\n",
      "Epoch 71/100\n",
      "3125/3125 [==============================] - 15s 5ms/step - loss: 0.5826 - val_loss: 2.5802\n",
      "Epoch 72/100\n",
      "3125/3125 [==============================] - 15s 5ms/step - loss: 0.5624 - val_loss: 2.5965\n",
      "Epoch 73/100\n",
      "3125/3125 [==============================] - 15s 5ms/step - loss: 0.5639 - val_loss: 2.6140\n",
      "Epoch 74/100\n",
      "3125/3125 [==============================] - 15s 5ms/step - loss: 0.5772 - val_loss: 2.5941\n",
      "Epoch 75/100\n",
      "3125/3125 [==============================] - 15s 5ms/step - loss: 0.5784 - val_loss: 2.6039\n",
      "Epoch 76/100\n",
      "3125/3125 [==============================] - 16s 5ms/step - loss: 0.5472 - val_loss: 2.6263\n",
      "Epoch 77/100\n",
      "3125/3125 [==============================] - 15s 5ms/step - loss: 0.5679 - val_loss: 2.6039\n",
      "Epoch 78/100\n",
      "3125/3125 [==============================] - 15s 5ms/step - loss: 0.5751 - val_loss: 2.5746\n",
      "Epoch 79/100\n"
     ]
    },
    {
     "name": "stdout",
     "output_type": "stream",
     "text": [
      "3125/3125 [==============================] - 14s 4ms/step - loss: 0.5684 - val_loss: 2.5595\n",
      "Epoch 80/100\n",
      "3125/3125 [==============================] - 14s 4ms/step - loss: 0.5549 - val_loss: 2.5968\n",
      "Epoch 81/100\n",
      "3125/3125 [==============================] - 16s 5ms/step - loss: 0.5670 - val_loss: 2.5546\n",
      "Epoch 82/100\n",
      "3125/3125 [==============================] - 17s 6ms/step - loss: 0.5677 - val_loss: 2.5551\n",
      "Epoch 83/100\n",
      "3125/3125 [==============================] - 18s 6ms/step - loss: 0.5628 - val_loss: 2.5604\n",
      "Epoch 84/100\n",
      "3125/3125 [==============================] - 15s 5ms/step - loss: 0.5706 - val_loss: 2.5370\n",
      "Epoch 85/100\n",
      "3125/3125 [==============================] - 14s 5ms/step - loss: 0.5360 - val_loss: 2.5409\n",
      "Epoch 86/100\n",
      "3125/3125 [==============================] - 14s 4ms/step - loss: 0.5534 - val_loss: 2.5506\n",
      "Epoch 87/100\n",
      "3125/3125 [==============================] - 14s 4ms/step - loss: 0.5574 - val_loss: 2.5682\n",
      "Epoch 88/100\n",
      "3125/3125 [==============================] - 14s 4ms/step - loss: 0.5251 - val_loss: 2.5284\n",
      "Epoch 89/100\n",
      "3125/3125 [==============================] - 14s 5ms/step - loss: 0.5327 - val_loss: 2.5092\n",
      "Epoch 90/100\n",
      "3125/3125 [==============================] - 14s 5ms/step - loss: 0.5414 - val_loss: 2.5449\n",
      "Epoch 91/100\n",
      "3125/3125 [==============================] - 14s 5ms/step - loss: 0.5459 - val_loss: 2.5277\n",
      "Epoch 92/100\n",
      "3125/3125 [==============================] - 14s 4ms/step - loss: 0.5387 - val_loss: 2.5379\n",
      "Epoch 93/100\n",
      "3125/3125 [==============================] - 14s 5ms/step - loss: 0.5345 - val_loss: 2.5517\n",
      "Epoch 94/100\n",
      "3125/3125 [==============================] - 15s 5ms/step - loss: 0.5346 - val_loss: 2.5586\n",
      "Epoch 95/100\n",
      "3125/3125 [==============================] - 14s 5ms/step - loss: 0.5464 - val_loss: 2.5048\n",
      "Epoch 96/100\n",
      "3125/3125 [==============================] - 14s 4ms/step - loss: 0.5455 - val_loss: 2.5106\n",
      "Epoch 97/100\n",
      "3125/3125 [==============================] - 14s 5ms/step - loss: 0.5286 - val_loss: 2.4776\n",
      "Epoch 98/100\n",
      "3125/3125 [==============================] - 14s 4ms/step - loss: 0.5503 - val_loss: 2.4870\n",
      "Epoch 99/100\n",
      "3125/3125 [==============================] - 15s 5ms/step - loss: 0.5478 - val_loss: 2.5086\n",
      "Epoch 100/100\n",
      "3125/3125 [==============================] - 15s 5ms/step - loss: 0.5660 - val_loss: 2.5109\n"
     ]
    }
   ],
   "source": [
    "model = tf.keras.Sequential()\n",
    "model.add(tf.keras.Input(shape=(X_train.shape[1],)))\n",
    "model.add(tf.keras.layers.Dense(200,activation='relu'))\n",
    "model.add(tf.keras.layers.BatchNormalization())\n",
    "model.add(tf.keras.layers.Dense(200,activation='relu'))\n",
    "model.add(tf.keras.layers.BatchNormalization())\n",
    "model.add(tf.keras.layers.Dense(1))\n",
    "\n",
    "opt = keras.optimizers.Adam(learning_rate=1e-4)\n",
    "model.compile(loss=\"mean_squared_error\", optimizer=opt)\n",
    "\n",
    "history = model.fit(X_train,y_train,epochs=100,validation_data=(X_val,y_val))"
   ]
  },
  {
   "cell_type": "code",
   "execution_count": 16,
   "metadata": {},
   "outputs": [],
   "source": [
    "prediction = model.predict(X_val[:5])"
   ]
  },
  {
   "cell_type": "code",
   "execution_count": 54,
   "metadata": {},
   "outputs": [],
   "source": [
    "first_five = prediction"
   ]
  },
  {
   "cell_type": "code",
   "execution_count": 57,
   "metadata": {},
   "outputs": [],
   "source": [
    "first_five_val = np.power(10,first_five)"
   ]
  },
  {
   "cell_type": "code",
   "execution_count": 58,
   "metadata": {},
   "outputs": [
    {
     "data": {
      "text/plain": [
       "array([[1.7049284e+05],\n",
       "       [2.4034834e+01],\n",
       "       [2.2632375e+04],\n",
       "       [8.5367494e+08],\n",
       "       [1.9981154e+07]], dtype=float32)"
      ]
     },
     "execution_count": 58,
     "metadata": {},
     "output_type": "execute_result"
    }
   ],
   "source": [
    "first_five_val"
   ]
  },
  {
   "cell_type": "code",
   "execution_count": 61,
   "metadata": {},
   "outputs": [],
   "source": [
    "first_five_y_val = np.power(10,y_val)"
   ]
  },
  {
   "cell_type": "code",
   "execution_count": 63,
   "metadata": {},
   "outputs": [
    {
     "data": {
      "text/plain": [
       "124616    1.581620e+05\n",
       "124617    5.385554e+01\n",
       "124618    6.423000e+03\n",
       "124623    1.052675e+09\n",
       "124624    4.385741e+06\n",
       "Name: 2007 [YR2007], dtype: float64"
      ]
     },
     "execution_count": 63,
     "metadata": {},
     "output_type": "execute_result"
    }
   ],
   "source": [
    "first_five_y_val[:5]"
   ]
  },
  {
   "cell_type": "code",
   "execution_count": 17,
   "metadata": {},
   "outputs": [
    {
     "data": {
      "text/plain": [
       "array([[5.231706 ],\n",
       "       [1.3808411],\n",
       "       [4.35473  ],\n",
       "       [8.931293 ],\n",
       "       [7.3006206]], dtype=float32)"
      ]
     },
     "execution_count": 17,
     "metadata": {},
     "output_type": "execute_result"
    }
   ],
   "source": [
    "prediction"
   ]
  },
  {
   "cell_type": "code",
   "execution_count": 18,
   "metadata": {},
   "outputs": [
    {
     "data": {
      "text/plain": [
       "124616    5.199102\n",
       "124617    1.731230\n",
       "124618    3.807738\n",
       "124623    9.022294\n",
       "124624    6.642043\n",
       "Name: 2007 [YR2007], dtype: float64"
      ]
     },
     "execution_count": 18,
     "metadata": {},
     "output_type": "execute_result"
    }
   ],
   "source": [
    "y_val[:5]"
   ]
  },
  {
   "cell_type": "code",
   "execution_count": 19,
   "metadata": {},
   "outputs": [
    {
     "data": {
      "text/html": [
       "<div>\n",
       "<style scoped>\n",
       "    .dataframe tbody tr th:only-of-type {\n",
       "        vertical-align: middle;\n",
       "    }\n",
       "\n",
       "    .dataframe tbody tr th {\n",
       "        vertical-align: top;\n",
       "    }\n",
       "\n",
       "    .dataframe thead th {\n",
       "        text-align: right;\n",
       "    }\n",
       "</style>\n",
       "<table border=\"1\" class=\"dataframe\">\n",
       "  <thead>\n",
       "    <tr style=\"text-align: right;\">\n",
       "      <th></th>\n",
       "      <th>Unnamed: 0</th>\n",
       "      <th>2008 [YR2008]</th>\n",
       "      <th>2012 [YR2012]</th>\n",
       "    </tr>\n",
       "  </thead>\n",
       "  <tbody>\n",
       "    <tr>\n",
       "      <th>0</th>\n",
       "      <td>559</td>\n",
       "      <td>NaN</td>\n",
       "      <td>NaN</td>\n",
       "    </tr>\n",
       "    <tr>\n",
       "      <th>1</th>\n",
       "      <td>618</td>\n",
       "      <td>NaN</td>\n",
       "      <td>NaN</td>\n",
       "    </tr>\n",
       "    <tr>\n",
       "      <th>2</th>\n",
       "      <td>753</td>\n",
       "      <td>NaN</td>\n",
       "      <td>NaN</td>\n",
       "    </tr>\n",
       "    <tr>\n",
       "      <th>3</th>\n",
       "      <td>1030</td>\n",
       "      <td>NaN</td>\n",
       "      <td>NaN</td>\n",
       "    </tr>\n",
       "    <tr>\n",
       "      <th>4</th>\n",
       "      <td>1896</td>\n",
       "      <td>NaN</td>\n",
       "      <td>NaN</td>\n",
       "    </tr>\n",
       "  </tbody>\n",
       "</table>\n",
       "</div>"
      ],
      "text/plain": [
       "   Unnamed: 0  2008 [YR2008]  2012 [YR2012]\n",
       "0         559            NaN            NaN\n",
       "1         618            NaN            NaN\n",
       "2         753            NaN            NaN\n",
       "3        1030            NaN            NaN\n",
       "4        1896            NaN            NaN"
      ]
     },
     "execution_count": 19,
     "metadata": {},
     "output_type": "execute_result"
    }
   ],
   "source": [
    "test.head()"
   ]
  },
  {
   "cell_type": "code",
   "execution_count": 20,
   "metadata": {},
   "outputs": [
    {
     "data": {
      "text/html": [
       "<div>\n",
       "<style scoped>\n",
       "    .dataframe tbody tr th:only-of-type {\n",
       "        vertical-align: middle;\n",
       "    }\n",
       "\n",
       "    .dataframe tbody tr th {\n",
       "        vertical-align: top;\n",
       "    }\n",
       "\n",
       "    .dataframe thead th {\n",
       "        text-align: right;\n",
       "    }\n",
       "</style>\n",
       "<table border=\"1\" class=\"dataframe\">\n",
       "  <thead>\n",
       "    <tr style=\"text-align: right;\">\n",
       "      <th></th>\n",
       "      <th>Unnamed: 0</th>\n",
       "      <th>1972 [YR1972]</th>\n",
       "      <th>1973 [YR1973]</th>\n",
       "      <th>1974 [YR1974]</th>\n",
       "      <th>1975 [YR1975]</th>\n",
       "      <th>1976 [YR1976]</th>\n",
       "      <th>1977 [YR1977]</th>\n",
       "      <th>1978 [YR1978]</th>\n",
       "      <th>1979 [YR1979]</th>\n",
       "      <th>1980 [YR1980]</th>\n",
       "      <th>...</th>\n",
       "      <th>2001 [YR2001]</th>\n",
       "      <th>2002 [YR2002]</th>\n",
       "      <th>2003 [YR2003]</th>\n",
       "      <th>2004 [YR2004]</th>\n",
       "      <th>2005 [YR2005]</th>\n",
       "      <th>2006 [YR2006]</th>\n",
       "      <th>2007 [YR2007]</th>\n",
       "      <th>Country Name</th>\n",
       "      <th>Series Code</th>\n",
       "      <th>Series Name</th>\n",
       "    </tr>\n",
       "  </thead>\n",
       "  <tbody>\n",
       "    <tr>\n",
       "      <th>0</th>\n",
       "      <td>0</td>\n",
       "      <td>NaN</td>\n",
       "      <td>NaN</td>\n",
       "      <td>NaN</td>\n",
       "      <td>NaN</td>\n",
       "      <td>NaN</td>\n",
       "      <td>NaN</td>\n",
       "      <td>NaN</td>\n",
       "      <td>NaN</td>\n",
       "      <td>NaN</td>\n",
       "      <td>...</td>\n",
       "      <td>NaN</td>\n",
       "      <td>NaN</td>\n",
       "      <td>NaN</td>\n",
       "      <td>NaN</td>\n",
       "      <td>NaN</td>\n",
       "      <td>NaN</td>\n",
       "      <td>3.769214</td>\n",
       "      <td>Afghanistan</td>\n",
       "      <td>allsi.bi_q1</td>\n",
       "      <td>(%) Benefits held by 1st 20% population - All ...</td>\n",
       "    </tr>\n",
       "    <tr>\n",
       "      <th>1</th>\n",
       "      <td>1</td>\n",
       "      <td>NaN</td>\n",
       "      <td>NaN</td>\n",
       "      <td>NaN</td>\n",
       "      <td>NaN</td>\n",
       "      <td>NaN</td>\n",
       "      <td>NaN</td>\n",
       "      <td>NaN</td>\n",
       "      <td>NaN</td>\n",
       "      <td>NaN</td>\n",
       "      <td>...</td>\n",
       "      <td>NaN</td>\n",
       "      <td>NaN</td>\n",
       "      <td>NaN</td>\n",
       "      <td>NaN</td>\n",
       "      <td>NaN</td>\n",
       "      <td>NaN</td>\n",
       "      <td>7.027746</td>\n",
       "      <td>Afghanistan</td>\n",
       "      <td>allsp.bi_q1</td>\n",
       "      <td>(%) Benefits held by 1st 20% population - All ...</td>\n",
       "    </tr>\n",
       "    <tr>\n",
       "      <th>2</th>\n",
       "      <td>2</td>\n",
       "      <td>NaN</td>\n",
       "      <td>NaN</td>\n",
       "      <td>NaN</td>\n",
       "      <td>NaN</td>\n",
       "      <td>NaN</td>\n",
       "      <td>NaN</td>\n",
       "      <td>NaN</td>\n",
       "      <td>NaN</td>\n",
       "      <td>NaN</td>\n",
       "      <td>...</td>\n",
       "      <td>NaN</td>\n",
       "      <td>NaN</td>\n",
       "      <td>NaN</td>\n",
       "      <td>NaN</td>\n",
       "      <td>NaN</td>\n",
       "      <td>NaN</td>\n",
       "      <td>8.244887</td>\n",
       "      <td>Afghanistan</td>\n",
       "      <td>allsa.bi_q1</td>\n",
       "      <td>(%) Benefits held by 1st 20% population - All ...</td>\n",
       "    </tr>\n",
       "    <tr>\n",
       "      <th>3</th>\n",
       "      <td>4</td>\n",
       "      <td>NaN</td>\n",
       "      <td>NaN</td>\n",
       "      <td>NaN</td>\n",
       "      <td>NaN</td>\n",
       "      <td>NaN</td>\n",
       "      <td>NaN</td>\n",
       "      <td>NaN</td>\n",
       "      <td>NaN</td>\n",
       "      <td>NaN</td>\n",
       "      <td>...</td>\n",
       "      <td>NaN</td>\n",
       "      <td>NaN</td>\n",
       "      <td>NaN</td>\n",
       "      <td>NaN</td>\n",
       "      <td>NaN</td>\n",
       "      <td>NaN</td>\n",
       "      <td>12.933105</td>\n",
       "      <td>Afghanistan</td>\n",
       "      <td>allsi.gen_pop</td>\n",
       "      <td>(%) Generosity of All Social Insurance</td>\n",
       "    </tr>\n",
       "    <tr>\n",
       "      <th>4</th>\n",
       "      <td>5</td>\n",
       "      <td>NaN</td>\n",
       "      <td>NaN</td>\n",
       "      <td>NaN</td>\n",
       "      <td>NaN</td>\n",
       "      <td>NaN</td>\n",
       "      <td>NaN</td>\n",
       "      <td>NaN</td>\n",
       "      <td>NaN</td>\n",
       "      <td>NaN</td>\n",
       "      <td>...</td>\n",
       "      <td>NaN</td>\n",
       "      <td>NaN</td>\n",
       "      <td>NaN</td>\n",
       "      <td>NaN</td>\n",
       "      <td>NaN</td>\n",
       "      <td>NaN</td>\n",
       "      <td>18.996814</td>\n",
       "      <td>Afghanistan</td>\n",
       "      <td>allsp.gen_pop</td>\n",
       "      <td>(%) Generosity of All Social Protection</td>\n",
       "    </tr>\n",
       "  </tbody>\n",
       "</table>\n",
       "<p>5 rows × 40 columns</p>\n",
       "</div>"
      ],
      "text/plain": [
       "   Unnamed: 0  1972 [YR1972]  1973 [YR1973]  1974 [YR1974]  1975 [YR1975]  \\\n",
       "0           0            NaN            NaN            NaN            NaN   \n",
       "1           1            NaN            NaN            NaN            NaN   \n",
       "2           2            NaN            NaN            NaN            NaN   \n",
       "3           4            NaN            NaN            NaN            NaN   \n",
       "4           5            NaN            NaN            NaN            NaN   \n",
       "\n",
       "   1976 [YR1976]  1977 [YR1977]  1978 [YR1978]  1979 [YR1979]  1980 [YR1980]  \\\n",
       "0            NaN            NaN            NaN            NaN            NaN   \n",
       "1            NaN            NaN            NaN            NaN            NaN   \n",
       "2            NaN            NaN            NaN            NaN            NaN   \n",
       "3            NaN            NaN            NaN            NaN            NaN   \n",
       "4            NaN            NaN            NaN            NaN            NaN   \n",
       "\n",
       "   ...  2001 [YR2001]  2002 [YR2002]  2003 [YR2003]  2004 [YR2004]  \\\n",
       "0  ...            NaN            NaN            NaN            NaN   \n",
       "1  ...            NaN            NaN            NaN            NaN   \n",
       "2  ...            NaN            NaN            NaN            NaN   \n",
       "3  ...            NaN            NaN            NaN            NaN   \n",
       "4  ...            NaN            NaN            NaN            NaN   \n",
       "\n",
       "   2005 [YR2005]  2006 [YR2006]  2007 [YR2007]  Country Name    Series Code  \\\n",
       "0            NaN            NaN       3.769214   Afghanistan    allsi.bi_q1   \n",
       "1            NaN            NaN       7.027746   Afghanistan    allsp.bi_q1   \n",
       "2            NaN            NaN       8.244887   Afghanistan    allsa.bi_q1   \n",
       "3            NaN            NaN      12.933105   Afghanistan  allsi.gen_pop   \n",
       "4            NaN            NaN      18.996814   Afghanistan  allsp.gen_pop   \n",
       "\n",
       "                                         Series Name  \n",
       "0  (%) Benefits held by 1st 20% population - All ...  \n",
       "1  (%) Benefits held by 1st 20% population - All ...  \n",
       "2  (%) Benefits held by 1st 20% population - All ...  \n",
       "3             (%) Generosity of All Social Insurance  \n",
       "4            (%) Generosity of All Social Protection  \n",
       "\n",
       "[5 rows x 40 columns]"
      ]
     },
     "execution_count": 20,
     "metadata": {},
     "output_type": "execute_result"
    }
   ],
   "source": [
    "data.head()"
   ]
  },
  {
   "cell_type": "code",
   "execution_count": 21,
   "metadata": {},
   "outputs": [],
   "source": [
    "#merge test data to get all columns\n",
    "test_all_cols = data.merge(test,on='Unnamed: 0')\n",
    "sliced = data[data['Unnamed: 0'].isin(test['Unnamed: 0'])]"
   ]
  },
  {
   "cell_type": "code",
   "execution_count": 22,
   "metadata": {},
   "outputs": [],
   "source": [
    "test_indexes = sliced.index"
   ]
  },
  {
   "cell_type": "code",
   "execution_count": 23,
   "metadata": {},
   "outputs": [],
   "source": [
    "def getTestableData(data,scaler,NAHandlingMethod,dropRowsAllNAFromCol,threshold,dropCol):\n",
    "    X,y = cleanData(data,dropRowsAllNAFromCol,dropCol,threshold,False)\n",
    "    X = preprocessData(X,0,scaler,False)\n",
    "    return X"
   ]
  },
  {
   "cell_type": "code",
   "execution_count": 24,
   "metadata": {},
   "outputs": [
    {
     "data": {
      "text/plain": [
       "Index(['Unnamed: 0', '1972 [YR1972]', '1973 [YR1973]', '1974 [YR1974]',\n",
       "       '1975 [YR1975]', '1976 [YR1976]', '1977 [YR1977]', '1978 [YR1978]',\n",
       "       '1979 [YR1979]', '1980 [YR1980]', '1981 [YR1981]', '1982 [YR1982]',\n",
       "       '1983 [YR1983]', '1984 [YR1984]', '1985 [YR1985]', '1986 [YR1986]',\n",
       "       '1987 [YR1987]', '1988 [YR1988]', '1989 [YR1989]', '1990 [YR1990]',\n",
       "       '1991 [YR1991]', '1992 [YR1992]', '1993 [YR1993]', '1994 [YR1994]',\n",
       "       '1995 [YR1995]', '1996 [YR1996]', '1997 [YR1997]', '1998 [YR1998]',\n",
       "       '1999 [YR1999]', '2000 [YR2000]', '2001 [YR2001]', '2002 [YR2002]',\n",
       "       '2003 [YR2003]', '2004 [YR2004]', '2005 [YR2005]', '2006 [YR2006]',\n",
       "       '2007 [YR2007]', 'Country Name', 'Series Code', 'Series Name'],\n",
       "      dtype='object')"
      ]
     },
     "execution_count": 24,
     "metadata": {},
     "output_type": "execute_result"
    }
   ],
   "source": [
    "testingData = data.copy()\n",
    "testingData = testingData.iloc[:,0:]\n",
    "testingData.columns\n",
    "\n"
   ]
  },
  {
   "cell_type": "code",
   "execution_count": 25,
   "metadata": {},
   "outputs": [],
   "source": [
    "testingData = testingData.drop(columns=['1972 [YR1972]'])"
   ]
  },
  {
   "cell_type": "code",
   "execution_count": 26,
   "metadata": {},
   "outputs": [
    {
     "name": "stdout",
     "output_type": "stream",
     "text": [
      "numeric columns are :  Index(['1973 [YR1973]', '1974 [YR1974]', '1975 [YR1975]', '1976 [YR1976]',\n",
      "       '1977 [YR1977]', '1978 [YR1978]', '1979 [YR1979]', '1980 [YR1980]',\n",
      "       '1981 [YR1981]', '1982 [YR1982]', '1983 [YR1983]', '1984 [YR1984]',\n",
      "       '1985 [YR1985]', '1986 [YR1986]', '1987 [YR1987]', '1988 [YR1988]',\n",
      "       '1989 [YR1989]', '1990 [YR1990]', '1991 [YR1991]', '1992 [YR1992]',\n",
      "       '1993 [YR1993]', '1994 [YR1994]', '1995 [YR1995]', '1996 [YR1996]',\n",
      "       '1997 [YR1997]', '1998 [YR1998]', '1999 [YR1999]', '2000 [YR2000]',\n",
      "       '2001 [YR2001]', '2002 [YR2002]', '2003 [YR2003]', '2004 [YR2004]',\n",
      "       '2005 [YR2005]', '2006 [YR2006]', '2007 [YR2007]'],\n",
      "      dtype='object')\n",
      "categorical columns are :  Index(['Country Name', 'Series Code'], dtype='object')\n"
     ]
    }
   ],
   "source": [
    "X_test = getTestableData(testingData,min_max_scaler,NAHandlingMethod=None,dropRowsAllNAFromCol=None,threshold=10,dropCol=[\"Series Name\",\"Unnamed: 0\"])\n",
    "\n"
   ]
  },
  {
   "cell_type": "code",
   "execution_count": 27,
   "metadata": {},
   "outputs": [
    {
     "data": {
      "text/plain": [
       "(195402, 1554)"
      ]
     },
     "execution_count": 27,
     "metadata": {},
     "output_type": "execute_result"
    }
   ],
   "source": [
    "X_test.shape"
   ]
  },
  {
   "cell_type": "code",
   "execution_count": 28,
   "metadata": {},
   "outputs": [],
   "source": [
    "extraCol = set(X_test.columns) - set(X_train.columns)\n"
   ]
  },
  {
   "cell_type": "code",
   "execution_count": 29,
   "metadata": {},
   "outputs": [],
   "source": [
    "extraCol.remove('2007 [YR2007]')"
   ]
  },
  {
   "cell_type": "code",
   "execution_count": 30,
   "metadata": {},
   "outputs": [],
   "source": [
    "X_test = X_test.drop(columns=extraCol)"
   ]
  },
  {
   "cell_type": "code",
   "execution_count": 31,
   "metadata": {},
   "outputs": [
    {
     "data": {
      "text/plain": [
       "((195402, 1510), (100000, 1510))"
      ]
     },
     "execution_count": 31,
     "metadata": {},
     "output_type": "execute_result"
    }
   ],
   "source": [
    "X_test.shape,X_train.shape"
   ]
  },
  {
   "cell_type": "code",
   "execution_count": 32,
   "metadata": {},
   "outputs": [],
   "source": [
    "predictions = model.predict(X_test)"
   ]
  },
  {
   "cell_type": "code",
   "execution_count": 33,
   "metadata": {},
   "outputs": [
    {
     "data": {
      "text/plain": [
       "array([[3.7453923],\n",
       "       [3.4441092],\n",
       "       [3.7433083],\n",
       "       ...,\n",
       "       [4.848891 ],\n",
       "       [4.4785056],\n",
       "       [4.713124 ]], dtype=float32)"
      ]
     },
     "execution_count": 33,
     "metadata": {},
     "output_type": "execute_result"
    }
   ],
   "source": [
    "predictions"
   ]
  },
  {
   "cell_type": "code",
   "execution_count": 34,
   "metadata": {},
   "outputs": [],
   "source": [
    "X_toPred = X_test.iloc[test_indexes]"
   ]
  },
  {
   "cell_type": "code",
   "execution_count": 35,
   "metadata": {},
   "outputs": [
    {
     "data": {
      "text/plain": [
       "(737, 1510)"
      ]
     },
     "execution_count": 35,
     "metadata": {},
     "output_type": "execute_result"
    }
   ],
   "source": [
    "X_toPred.shape"
   ]
  },
  {
   "cell_type": "code",
   "execution_count": 36,
   "metadata": {},
   "outputs": [],
   "source": [
    "test_predictions_2008 = model.predict(X_toPred)"
   ]
  },
  {
   "cell_type": "code",
   "execution_count": 37,
   "metadata": {},
   "outputs": [],
   "source": [
    "test_predictions_2008_val = np.power(10,test_predictions_2008)"
   ]
  },
  {
   "cell_type": "code",
   "execution_count": 38,
   "metadata": {},
   "outputs": [
    {
     "data": {
      "text/plain": [
       "(0.07709873, 4.2347264)"
      ]
     },
     "execution_count": 38,
     "metadata": {},
     "output_type": "execute_result"
    }
   ],
   "source": [
    "np.min(test_predictions_2008),np.max(test_predictions_2008)"
   ]
  },
  {
   "cell_type": "code",
   "execution_count": 39,
   "metadata": {},
   "outputs": [],
   "source": [
    "test_predictions_2008_val = test_predictions_2008_val.round(2)"
   ]
  },
  {
   "cell_type": "code",
   "execution_count": 40,
   "metadata": {},
   "outputs": [
    {
     "data": {
      "text/plain": [
       "(1.19, 17168.26)"
      ]
     },
     "execution_count": 40,
     "metadata": {},
     "output_type": "execute_result"
    }
   ],
   "source": [
    "np.min(test_predictions_2008_val),np.max(test_predictions_2008_val)"
   ]
  },
  {
   "cell_type": "code",
   "execution_count": 41,
   "metadata": {},
   "outputs": [
    {
     "data": {
      "text/html": [
       "<div>\n",
       "<style scoped>\n",
       "    .dataframe tbody tr th:only-of-type {\n",
       "        vertical-align: middle;\n",
       "    }\n",
       "\n",
       "    .dataframe tbody tr th {\n",
       "        vertical-align: top;\n",
       "    }\n",
       "\n",
       "    .dataframe thead th {\n",
       "        text-align: right;\n",
       "    }\n",
       "</style>\n",
       "<table border=\"1\" class=\"dataframe\">\n",
       "  <thead>\n",
       "    <tr style=\"text-align: right;\">\n",
       "      <th></th>\n",
       "      <th>Unnamed: 0</th>\n",
       "      <th>1972 [YR1972]</th>\n",
       "      <th>1973 [YR1973]</th>\n",
       "      <th>1974 [YR1974]</th>\n",
       "      <th>1975 [YR1975]</th>\n",
       "      <th>1976 [YR1976]</th>\n",
       "      <th>1977 [YR1977]</th>\n",
       "      <th>1978 [YR1978]</th>\n",
       "      <th>1979 [YR1979]</th>\n",
       "      <th>1980 [YR1980]</th>\n",
       "      <th>...</th>\n",
       "      <th>1998 [YR1998]</th>\n",
       "      <th>1999 [YR1999]</th>\n",
       "      <th>2000 [YR2000]</th>\n",
       "      <th>2001 [YR2001]</th>\n",
       "      <th>2002 [YR2002]</th>\n",
       "      <th>2003 [YR2003]</th>\n",
       "      <th>2004 [YR2004]</th>\n",
       "      <th>2005 [YR2005]</th>\n",
       "      <th>2006 [YR2006]</th>\n",
       "      <th>2007 [YR2007]</th>\n",
       "    </tr>\n",
       "  </thead>\n",
       "  <tbody>\n",
       "    <tr>\n",
       "      <th>count</th>\n",
       "      <td>195402.000000</td>\n",
       "      <td>6.494500e+04</td>\n",
       "      <td>6.444300e+04</td>\n",
       "      <td>6.496600e+04</td>\n",
       "      <td>6.697300e+04</td>\n",
       "      <td>6.771700e+04</td>\n",
       "      <td>6.973500e+04</td>\n",
       "      <td>6.976300e+04</td>\n",
       "      <td>6.990600e+04</td>\n",
       "      <td>7.525000e+04</td>\n",
       "      <td>...</td>\n",
       "      <td>1.259440e+05</td>\n",
       "      <td>1.308800e+05</td>\n",
       "      <td>1.405470e+05</td>\n",
       "      <td>1.367830e+05</td>\n",
       "      <td>1.403150e+05</td>\n",
       "      <td>1.391590e+05</td>\n",
       "      <td>1.423790e+05</td>\n",
       "      <td>1.615440e+05</td>\n",
       "      <td>1.588880e+05</td>\n",
       "      <td>1.615960e+05</td>\n",
       "    </tr>\n",
       "    <tr>\n",
       "      <th>mean</th>\n",
       "      <td>141942.303426</td>\n",
       "      <td>1.630638e+11</td>\n",
       "      <td>1.839488e+11</td>\n",
       "      <td>2.089534e+11</td>\n",
       "      <td>2.148826e+11</td>\n",
       "      <td>2.321517e+11</td>\n",
       "      <td>2.413682e+11</td>\n",
       "      <td>2.540583e+11</td>\n",
       "      <td>2.742810e+11</td>\n",
       "      <td>2.674858e+11</td>\n",
       "      <td>...</td>\n",
       "      <td>7.079045e+11</td>\n",
       "      <td>7.214590e+11</td>\n",
       "      <td>7.396189e+11</td>\n",
       "      <td>8.236331e+11</td>\n",
       "      <td>8.834342e+11</td>\n",
       "      <td>9.691983e+11</td>\n",
       "      <td>1.054572e+12</td>\n",
       "      <td>1.057680e+12</td>\n",
       "      <td>1.203163e+12</td>\n",
       "      <td>1.353147e+12</td>\n",
       "    </tr>\n",
       "    <tr>\n",
       "      <th>std</th>\n",
       "      <td>82594.568035</td>\n",
       "      <td>4.261616e+12</td>\n",
       "      <td>4.749746e+12</td>\n",
       "      <td>5.378336e+12</td>\n",
       "      <td>5.647070e+12</td>\n",
       "      <td>6.120314e+12</td>\n",
       "      <td>6.398377e+12</td>\n",
       "      <td>6.710724e+12</td>\n",
       "      <td>7.213662e+12</td>\n",
       "      <td>7.381164e+12</td>\n",
       "      <td>...</td>\n",
       "      <td>1.927225e+13</td>\n",
       "      <td>1.975110e+13</td>\n",
       "      <td>2.055262e+13</td>\n",
       "      <td>2.240717e+13</td>\n",
       "      <td>2.412411e+13</td>\n",
       "      <td>2.612031e+13</td>\n",
       "      <td>2.874833e+13</td>\n",
       "      <td>3.047457e+13</td>\n",
       "      <td>3.469590e+13</td>\n",
       "      <td>4.002108e+13</td>\n",
       "    </tr>\n",
       "    <tr>\n",
       "      <th>min</th>\n",
       "      <td>0.000000</td>\n",
       "      <td>-1.047939e+14</td>\n",
       "      <td>-1.128889e+14</td>\n",
       "      <td>-7.134161e+13</td>\n",
       "      <td>-8.269588e+13</td>\n",
       "      <td>-9.735652e+13</td>\n",
       "      <td>-9.433422e+13</td>\n",
       "      <td>-9.495898e+13</td>\n",
       "      <td>-5.362479e+13</td>\n",
       "      <td>-5.649790e+13</td>\n",
       "      <td>...</td>\n",
       "      <td>-1.014742e+14</td>\n",
       "      <td>-9.646140e+13</td>\n",
       "      <td>-9.216180e+13</td>\n",
       "      <td>-6.621060e+13</td>\n",
       "      <td>-5.635700e+13</td>\n",
       "      <td>-1.853552e+14</td>\n",
       "      <td>-1.515222e+14</td>\n",
       "      <td>-1.350005e+14</td>\n",
       "      <td>-1.422689e+14</td>\n",
       "      <td>-1.691820e+14</td>\n",
       "    </tr>\n",
       "    <tr>\n",
       "      <th>25%</th>\n",
       "      <td>70571.250000</td>\n",
       "      <td>3.176702e+00</td>\n",
       "      <td>3.550009e+00</td>\n",
       "      <td>4.000000e+00</td>\n",
       "      <td>3.671917e+00</td>\n",
       "      <td>4.595300e+00</td>\n",
       "      <td>5.000000e+00</td>\n",
       "      <td>4.901495e+00</td>\n",
       "      <td>5.000000e+00</td>\n",
       "      <td>5.682373e+00</td>\n",
       "      <td>...</td>\n",
       "      <td>4.902281e+00</td>\n",
       "      <td>5.264969e+00</td>\n",
       "      <td>5.304083e+00</td>\n",
       "      <td>5.249579e+00</td>\n",
       "      <td>5.269189e+00</td>\n",
       "      <td>5.500000e+00</td>\n",
       "      <td>5.460000e+00</td>\n",
       "      <td>5.206670e+00</td>\n",
       "      <td>5.206982e+00</td>\n",
       "      <td>5.000000e+00</td>\n",
       "    </tr>\n",
       "    <tr>\n",
       "      <th>50%</th>\n",
       "      <td>141554.500000</td>\n",
       "      <td>6.394000e+01</td>\n",
       "      <td>6.631737e+01</td>\n",
       "      <td>7.048563e+01</td>\n",
       "      <td>7.188613e+01</td>\n",
       "      <td>7.456354e+01</td>\n",
       "      <td>7.894462e+01</td>\n",
       "      <td>7.863808e+01</td>\n",
       "      <td>8.140866e+01</td>\n",
       "      <td>8.182969e+01</td>\n",
       "      <td>...</td>\n",
       "      <td>6.423599e+01</td>\n",
       "      <td>6.570000e+01</td>\n",
       "      <td>6.270796e+01</td>\n",
       "      <td>6.391600e+01</td>\n",
       "      <td>6.330000e+01</td>\n",
       "      <td>6.452287e+01</td>\n",
       "      <td>6.290620e+01</td>\n",
       "      <td>5.737856e+01</td>\n",
       "      <td>5.547417e+01</td>\n",
       "      <td>5.504303e+01</td>\n",
       "    </tr>\n",
       "    <tr>\n",
       "      <th>75%</th>\n",
       "      <td>211984.750000</td>\n",
       "      <td>5.007000e+06</td>\n",
       "      <td>7.131000e+06</td>\n",
       "      <td>9.250000e+06</td>\n",
       "      <td>1.108200e+07</td>\n",
       "      <td>1.290000e+07</td>\n",
       "      <td>1.540950e+07</td>\n",
       "      <td>1.922850e+07</td>\n",
       "      <td>2.409375e+07</td>\n",
       "      <td>2.419225e+07</td>\n",
       "      <td>...</td>\n",
       "      <td>1.870445e+07</td>\n",
       "      <td>1.300000e+07</td>\n",
       "      <td>6.544000e+06</td>\n",
       "      <td>1.038850e+07</td>\n",
       "      <td>9.278000e+06</td>\n",
       "      <td>1.200000e+07</td>\n",
       "      <td>1.066050e+07</td>\n",
       "      <td>8.484250e+06</td>\n",
       "      <td>1.025022e+07</td>\n",
       "      <td>8.599101e+06</td>\n",
       "    </tr>\n",
       "    <tr>\n",
       "      <th>max</th>\n",
       "      <td>286117.000000</td>\n",
       "      <td>2.681335e+14</td>\n",
       "      <td>2.943467e+14</td>\n",
       "      <td>3.186506e+14</td>\n",
       "      <td>3.383541e+14</td>\n",
       "      <td>3.586152e+14</td>\n",
       "      <td>3.895869e+14</td>\n",
       "      <td>4.254506e+14</td>\n",
       "      <td>4.556262e+14</td>\n",
       "      <td>5.039050e+14</td>\n",
       "      <td>...</td>\n",
       "      <td>1.348416e+15</td>\n",
       "      <td>1.324599e+15</td>\n",
       "      <td>1.389770e+15</td>\n",
       "      <td>1.646322e+15</td>\n",
       "      <td>1.821833e+15</td>\n",
       "      <td>2.013675e+15</td>\n",
       "      <td>2.295826e+15</td>\n",
       "      <td>2.774281e+15</td>\n",
       "      <td>3.339217e+15</td>\n",
       "      <td>3.950893e+15</td>\n",
       "    </tr>\n",
       "  </tbody>\n",
       "</table>\n",
       "<p>8 rows × 37 columns</p>\n",
       "</div>"
      ],
      "text/plain": [
       "          Unnamed: 0  1972 [YR1972]  1973 [YR1973]  1974 [YR1974]  \\\n",
       "count  195402.000000   6.494500e+04   6.444300e+04   6.496600e+04   \n",
       "mean   141942.303426   1.630638e+11   1.839488e+11   2.089534e+11   \n",
       "std     82594.568035   4.261616e+12   4.749746e+12   5.378336e+12   \n",
       "min         0.000000  -1.047939e+14  -1.128889e+14  -7.134161e+13   \n",
       "25%     70571.250000   3.176702e+00   3.550009e+00   4.000000e+00   \n",
       "50%    141554.500000   6.394000e+01   6.631737e+01   7.048563e+01   \n",
       "75%    211984.750000   5.007000e+06   7.131000e+06   9.250000e+06   \n",
       "max    286117.000000   2.681335e+14   2.943467e+14   3.186506e+14   \n",
       "\n",
       "       1975 [YR1975]  1976 [YR1976]  1977 [YR1977]  1978 [YR1978]  \\\n",
       "count   6.697300e+04   6.771700e+04   6.973500e+04   6.976300e+04   \n",
       "mean    2.148826e+11   2.321517e+11   2.413682e+11   2.540583e+11   \n",
       "std     5.647070e+12   6.120314e+12   6.398377e+12   6.710724e+12   \n",
       "min    -8.269588e+13  -9.735652e+13  -9.433422e+13  -9.495898e+13   \n",
       "25%     3.671917e+00   4.595300e+00   5.000000e+00   4.901495e+00   \n",
       "50%     7.188613e+01   7.456354e+01   7.894462e+01   7.863808e+01   \n",
       "75%     1.108200e+07   1.290000e+07   1.540950e+07   1.922850e+07   \n",
       "max     3.383541e+14   3.586152e+14   3.895869e+14   4.254506e+14   \n",
       "\n",
       "       1979 [YR1979]  1980 [YR1980]  ...  1998 [YR1998]  1999 [YR1999]  \\\n",
       "count   6.990600e+04   7.525000e+04  ...   1.259440e+05   1.308800e+05   \n",
       "mean    2.742810e+11   2.674858e+11  ...   7.079045e+11   7.214590e+11   \n",
       "std     7.213662e+12   7.381164e+12  ...   1.927225e+13   1.975110e+13   \n",
       "min    -5.362479e+13  -5.649790e+13  ...  -1.014742e+14  -9.646140e+13   \n",
       "25%     5.000000e+00   5.682373e+00  ...   4.902281e+00   5.264969e+00   \n",
       "50%     8.140866e+01   8.182969e+01  ...   6.423599e+01   6.570000e+01   \n",
       "75%     2.409375e+07   2.419225e+07  ...   1.870445e+07   1.300000e+07   \n",
       "max     4.556262e+14   5.039050e+14  ...   1.348416e+15   1.324599e+15   \n",
       "\n",
       "       2000 [YR2000]  2001 [YR2001]  2002 [YR2002]  2003 [YR2003]  \\\n",
       "count   1.405470e+05   1.367830e+05   1.403150e+05   1.391590e+05   \n",
       "mean    7.396189e+11   8.236331e+11   8.834342e+11   9.691983e+11   \n",
       "std     2.055262e+13   2.240717e+13   2.412411e+13   2.612031e+13   \n",
       "min    -9.216180e+13  -6.621060e+13  -5.635700e+13  -1.853552e+14   \n",
       "25%     5.304083e+00   5.249579e+00   5.269189e+00   5.500000e+00   \n",
       "50%     6.270796e+01   6.391600e+01   6.330000e+01   6.452287e+01   \n",
       "75%     6.544000e+06   1.038850e+07   9.278000e+06   1.200000e+07   \n",
       "max     1.389770e+15   1.646322e+15   1.821833e+15   2.013675e+15   \n",
       "\n",
       "       2004 [YR2004]  2005 [YR2005]  2006 [YR2006]  2007 [YR2007]  \n",
       "count   1.423790e+05   1.615440e+05   1.588880e+05   1.615960e+05  \n",
       "mean    1.054572e+12   1.057680e+12   1.203163e+12   1.353147e+12  \n",
       "std     2.874833e+13   3.047457e+13   3.469590e+13   4.002108e+13  \n",
       "min    -1.515222e+14  -1.350005e+14  -1.422689e+14  -1.691820e+14  \n",
       "25%     5.460000e+00   5.206670e+00   5.206982e+00   5.000000e+00  \n",
       "50%     6.290620e+01   5.737856e+01   5.547417e+01   5.504303e+01  \n",
       "75%     1.066050e+07   8.484250e+06   1.025022e+07   8.599101e+06  \n",
       "max     2.295826e+15   2.774281e+15   3.339217e+15   3.950893e+15  \n",
       "\n",
       "[8 rows x 37 columns]"
      ]
     },
     "execution_count": 41,
     "metadata": {},
     "output_type": "execute_result"
    }
   ],
   "source": [
    "data.describe()"
   ]
  },
  {
   "cell_type": "code",
   "execution_count": 42,
   "metadata": {},
   "outputs": [
    {
     "data": {
      "text/plain": [
       "Index(['Unnamed: 0', '1972 [YR1972]', '1973 [YR1973]', '1974 [YR1974]',\n",
       "       '1975 [YR1975]', '1976 [YR1976]', '1977 [YR1977]', '1978 [YR1978]',\n",
       "       '1979 [YR1979]', '1980 [YR1980]', '1981 [YR1981]', '1982 [YR1982]',\n",
       "       '1983 [YR1983]', '1984 [YR1984]', '1985 [YR1985]', '1986 [YR1986]',\n",
       "       '1987 [YR1987]', '1988 [YR1988]', '1989 [YR1989]', '1990 [YR1990]',\n",
       "       '1991 [YR1991]', '1992 [YR1992]', '1993 [YR1993]', '1994 [YR1994]',\n",
       "       '1995 [YR1995]', '1996 [YR1996]', '1997 [YR1997]', '1998 [YR1998]',\n",
       "       '1999 [YR1999]', '2000 [YR2000]', '2001 [YR2001]', '2002 [YR2002]',\n",
       "       '2003 [YR2003]', '2004 [YR2004]', '2005 [YR2005]', '2006 [YR2006]',\n",
       "       '2007 [YR2007]', 'Country Name', 'Series Code', 'Series Name'],\n",
       "      dtype='object')"
      ]
     },
     "execution_count": 42,
     "metadata": {},
     "output_type": "execute_result"
    }
   ],
   "source": [
    "years = ['2008 [YR2008]','2009 [YR2009]','2010 [YR2010]','2011 [YR2011]','2012 [YR2012]']\n",
    "drop_years = ['1972 [YR1972]','1973 [YR1973]','1974 [YR1974]','1975 [YR1975]','1976 [YR1976]']\n",
    "all_years = data.columns\n",
    "\n",
    "all_years"
   ]
  },
  {
   "cell_type": "code",
   "execution_count": 65,
   "metadata": {},
   "outputs": [],
   "source": [
    "years = ['2008 [YR2008]','2009 [YR2009]','2010 [YR2010]','2011 [YR2011]','2012 [YR2012]','2013 [YR2013]']\n",
    "drop_years = ['1972 [YR1972]','1973 [YR1973]','1974 [YR1974]','1975 [YR1975]','1976 [YR1976]']\n",
    "all_years = data.columns\n",
    "\n",
    "\n",
    "def getPredicts(data,drop_years):\n",
    "    pred = []\n",
    "    loc = 37\n",
    "    year = 2008\n",
    "    for i, v in enumerate(drop_years):\n",
    "        print(i,v)\n",
    "        #print('before....', data.columns)\n",
    "        #print('after....', data.columns)\n",
    "        X_test = getTestableData(data,min_max_scaler,NAHandlingMethod=None,dropRowsAllNAFromCol=None,threshold=10,dropCol=[\"Series Name\",\"Unnamed: 0\"])\n",
    "        X_test = X_test.drop(columns=[v])\n",
    "        extraCol = set(X_test.columns) - set(X_train.columns)\n",
    "        extraCol.difference_update(all_years)\n",
    "        extraCol.difference_update(years)\n",
    "        # remove all extra dummy series code from prepared test data except years columns\n",
    "        #print('extra col', extraCol)\n",
    "        X_test = X_test.drop(columns=extraCol)\n",
    "        # series data absent in prepared test compared to train data\n",
    "        X_toPred = X_test.iloc[test_indexes]\n",
    "        #predict full data\n",
    "        predictions = model.predict(X_test)\n",
    "        predictions_val = np.power(10,predictions)\n",
    "        #predict only data in submission file\n",
    "        predictions_test = model.predict(X_toPred)\n",
    "        predictions_val_test = np.power(10,predictions_test)\n",
    "        pred.append(predictions_val_test)\n",
    "        #add next year in full data for next year\n",
    "        data.insert(loc,year,predictions_val)\n",
    "        year = year +1\n",
    "        loc = loc +1\n",
    "    return pred\n",
    "   "
   ]
  },
  {
   "cell_type": "code",
   "execution_count": 66,
   "metadata": {},
   "outputs": [
    {
     "name": "stdout",
     "output_type": "stream",
     "text": [
      "0 1972 [YR1972]\n",
      "numeric columns are :  Index(['1972 [YR1972]', '1973 [YR1973]', '1974 [YR1974]', '1975 [YR1975]',\n",
      "       '1976 [YR1976]', '1977 [YR1977]', '1978 [YR1978]', '1979 [YR1979]',\n",
      "       '1980 [YR1980]', '1981 [YR1981]', '1982 [YR1982]', '1983 [YR1983]',\n",
      "       '1984 [YR1984]', '1985 [YR1985]', '1986 [YR1986]', '1987 [YR1987]',\n",
      "       '1988 [YR1988]', '1989 [YR1989]', '1990 [YR1990]', '1991 [YR1991]',\n",
      "       '1992 [YR1992]', '1993 [YR1993]', '1994 [YR1994]', '1995 [YR1995]',\n",
      "       '1996 [YR1996]', '1997 [YR1997]', '1998 [YR1998]', '1999 [YR1999]',\n",
      "       '2000 [YR2000]', '2001 [YR2001]', '2002 [YR2002]', '2003 [YR2003]',\n",
      "       '2004 [YR2004]', '2005 [YR2005]', '2006 [YR2006]', '2007 [YR2007]'],\n",
      "      dtype='object')\n",
      "categorical columns are :  Index(['Country Name', 'Series Code'], dtype='object')\n",
      "1 1973 [YR1973]\n",
      "numeric columns are :  Index(['1972 [YR1972]', '1973 [YR1973]', '1974 [YR1974]', '1975 [YR1975]',\n",
      "       '1976 [YR1976]', '1977 [YR1977]', '1978 [YR1978]', '1979 [YR1979]',\n",
      "       '1980 [YR1980]', '1981 [YR1981]', '1982 [YR1982]', '1983 [YR1983]',\n",
      "       '1984 [YR1984]', '1985 [YR1985]', '1986 [YR1986]', '1987 [YR1987]',\n",
      "       '1988 [YR1988]', '1989 [YR1989]', '1990 [YR1990]', '1991 [YR1991]',\n",
      "       '1992 [YR1992]', '1993 [YR1993]', '1994 [YR1994]', '1995 [YR1995]',\n",
      "       '1996 [YR1996]', '1997 [YR1997]', '1998 [YR1998]', '1999 [YR1999]',\n",
      "       '2000 [YR2000]', '2001 [YR2001]', '2002 [YR2002]', '2003 [YR2003]',\n",
      "       '2004 [YR2004]', '2005 [YR2005]', '2006 [YR2006]', '2007 [YR2007]',\n",
      "                  2008],\n",
      "      dtype='object')\n",
      "categorical columns are :  Index(['Country Name', 'Series Code'], dtype='object')\n",
      "2 1974 [YR1974]\n",
      "numeric columns are :  Index(['1972 [YR1972]', '1973 [YR1973]', '1974 [YR1974]', '1975 [YR1975]',\n",
      "       '1976 [YR1976]', '1977 [YR1977]', '1978 [YR1978]', '1979 [YR1979]',\n",
      "       '1980 [YR1980]', '1981 [YR1981]', '1982 [YR1982]', '1983 [YR1983]',\n",
      "       '1984 [YR1984]', '1985 [YR1985]', '1986 [YR1986]', '1987 [YR1987]',\n",
      "       '1988 [YR1988]', '1989 [YR1989]', '1990 [YR1990]', '1991 [YR1991]',\n",
      "       '1992 [YR1992]', '1993 [YR1993]', '1994 [YR1994]', '1995 [YR1995]',\n",
      "       '1996 [YR1996]', '1997 [YR1997]', '1998 [YR1998]', '1999 [YR1999]',\n",
      "       '2000 [YR2000]', '2001 [YR2001]', '2002 [YR2002]', '2003 [YR2003]',\n",
      "       '2004 [YR2004]', '2005 [YR2005]', '2006 [YR2006]', '2007 [YR2007]',\n",
      "                  2008,            2009],\n",
      "      dtype='object')\n",
      "categorical columns are :  Index(['Country Name', 'Series Code'], dtype='object')\n",
      "3 1975 [YR1975]\n",
      "numeric columns are :  Index(['1972 [YR1972]', '1973 [YR1973]', '1974 [YR1974]', '1975 [YR1975]',\n",
      "       '1976 [YR1976]', '1977 [YR1977]', '1978 [YR1978]', '1979 [YR1979]',\n",
      "       '1980 [YR1980]', '1981 [YR1981]', '1982 [YR1982]', '1983 [YR1983]',\n",
      "       '1984 [YR1984]', '1985 [YR1985]', '1986 [YR1986]', '1987 [YR1987]',\n",
      "       '1988 [YR1988]', '1989 [YR1989]', '1990 [YR1990]', '1991 [YR1991]',\n",
      "       '1992 [YR1992]', '1993 [YR1993]', '1994 [YR1994]', '1995 [YR1995]',\n",
      "       '1996 [YR1996]', '1997 [YR1997]', '1998 [YR1998]', '1999 [YR1999]',\n",
      "       '2000 [YR2000]', '2001 [YR2001]', '2002 [YR2002]', '2003 [YR2003]',\n",
      "       '2004 [YR2004]', '2005 [YR2005]', '2006 [YR2006]', '2007 [YR2007]',\n",
      "                  2008,            2009,            2010],\n",
      "      dtype='object')\n",
      "categorical columns are :  Index(['Country Name', 'Series Code'], dtype='object')\n",
      "4 1976 [YR1976]\n",
      "numeric columns are :  Index(['1972 [YR1972]', '1973 [YR1973]', '1974 [YR1974]', '1975 [YR1975]',\n",
      "       '1976 [YR1976]', '1977 [YR1977]', '1978 [YR1978]', '1979 [YR1979]',\n",
      "       '1980 [YR1980]', '1981 [YR1981]', '1982 [YR1982]', '1983 [YR1983]',\n",
      "       '1984 [YR1984]', '1985 [YR1985]', '1986 [YR1986]', '1987 [YR1987]',\n",
      "       '1988 [YR1988]', '1989 [YR1989]', '1990 [YR1990]', '1991 [YR1991]',\n",
      "       '1992 [YR1992]', '1993 [YR1993]', '1994 [YR1994]', '1995 [YR1995]',\n",
      "       '1996 [YR1996]', '1997 [YR1997]', '1998 [YR1998]', '1999 [YR1999]',\n",
      "       '2000 [YR2000]', '2001 [YR2001]', '2002 [YR2002]', '2003 [YR2003]',\n",
      "       '2004 [YR2004]', '2005 [YR2005]', '2006 [YR2006]', '2007 [YR2007]',\n",
      "                  2008,            2009,            2010,            2011],\n",
      "      dtype='object')\n",
      "categorical columns are :  Index(['Country Name', 'Series Code'], dtype='object')\n"
     ]
    }
   ],
   "source": [
    "testingData = data.copy()\n",
    "predictions_all = getPredicts(testingData,drop_years)"
   ]
  },
  {
   "cell_type": "code",
   "execution_count": 45,
   "metadata": {},
   "outputs": [],
   "source": [
    "pred_2008 = predictions_all[0]"
   ]
  },
  {
   "cell_type": "code",
   "execution_count": 46,
   "metadata": {},
   "outputs": [
    {
     "data": {
      "text/plain": [
       "737"
      ]
     },
     "execution_count": 46,
     "metadata": {},
     "output_type": "execute_result"
    }
   ],
   "source": [
    "pred_2008.shape\n",
    "total = len(predictions_all[0])\n",
    "total"
   ]
  },
  {
   "cell_type": "code",
   "execution_count": 47,
   "metadata": {},
   "outputs": [],
   "source": [
    "total = len(predictions_all[0])\n",
    "pred_2008 = predictions_all[0]\n",
    "pred_2008_reshaped= np.reshape(pred_2008,total)\n",
    "pred_2012 = predictions_all[4]\n",
    "pred_2012_reshaped= np.reshape(pred_2012,total)\n",
    "\n",
    "#X_toPred = X_test.iloc[test_indexes]\n",
    "\n",
    "result = pd.DataFrame({'':test['Unnamed: 0'],\n",
    "                    '2008 [YR2008]': pred_2008_reshaped,\n",
    "                      '2012 [YR2012]': pred_2012_reshaped})"
   ]
  },
  {
   "cell_type": "code",
   "execution_count": 48,
   "metadata": {},
   "outputs": [],
   "source": [
    "result.to_csv(\"result\",index=False)"
   ]
  },
  {
   "cell_type": "code",
   "execution_count": 69,
   "metadata": {},
   "outputs": [
    {
     "data": {
      "text/html": [
       "<div>\n",
       "<style scoped>\n",
       "    .dataframe tbody tr th:only-of-type {\n",
       "        vertical-align: middle;\n",
       "    }\n",
       "\n",
       "    .dataframe tbody tr th {\n",
       "        vertical-align: top;\n",
       "    }\n",
       "\n",
       "    .dataframe thead th {\n",
       "        text-align: right;\n",
       "    }\n",
       "</style>\n",
       "<table border=\"1\" class=\"dataframe\">\n",
       "  <thead>\n",
       "    <tr style=\"text-align: right;\">\n",
       "      <th></th>\n",
       "      <th>Unnamed: 0</th>\n",
       "      <th>1972 [YR1972]</th>\n",
       "      <th>1973 [YR1973]</th>\n",
       "      <th>1974 [YR1974]</th>\n",
       "      <th>1975 [YR1975]</th>\n",
       "      <th>1976 [YR1976]</th>\n",
       "      <th>1977 [YR1977]</th>\n",
       "      <th>1978 [YR1978]</th>\n",
       "      <th>1979 [YR1979]</th>\n",
       "      <th>1980 [YR1980]</th>\n",
       "      <th>...</th>\n",
       "      <th>2001 [YR2001]</th>\n",
       "      <th>2002 [YR2002]</th>\n",
       "      <th>2003 [YR2003]</th>\n",
       "      <th>2004 [YR2004]</th>\n",
       "      <th>2005 [YR2005]</th>\n",
       "      <th>2006 [YR2006]</th>\n",
       "      <th>2007 [YR2007]</th>\n",
       "      <th>Country Name</th>\n",
       "      <th>Series Code</th>\n",
       "      <th>Series Name</th>\n",
       "    </tr>\n",
       "  </thead>\n",
       "  <tbody>\n",
       "    <tr>\n",
       "      <th>132057</th>\n",
       "      <td>191809</td>\n",
       "      <td>NaN</td>\n",
       "      <td>NaN</td>\n",
       "      <td>NaN</td>\n",
       "      <td>NaN</td>\n",
       "      <td>NaN</td>\n",
       "      <td>NaN</td>\n",
       "      <td>NaN</td>\n",
       "      <td>NaN</td>\n",
       "      <td>NaN</td>\n",
       "      <td>...</td>\n",
       "      <td>0.64</td>\n",
       "      <td>0.7284</td>\n",
       "      <td>0.7813</td>\n",
       "      <td>0.7769</td>\n",
       "      <td>0.8199</td>\n",
       "      <td>0.8255</td>\n",
       "      <td>0.8693</td>\n",
       "      <td>Norway</td>\n",
       "      <td>8.16</td>\n",
       "      <td>Develop a global partnership for development: ...</td>\n",
       "    </tr>\n",
       "  </tbody>\n",
       "</table>\n",
       "<p>1 rows × 40 columns</p>\n",
       "</div>"
      ],
      "text/plain": [
       "        Unnamed: 0  1972 [YR1972]  1973 [YR1973]  1974 [YR1974]  \\\n",
       "132057      191809            NaN            NaN            NaN   \n",
       "\n",
       "        1975 [YR1975]  1976 [YR1976]  1977 [YR1977]  1978 [YR1978]  \\\n",
       "132057            NaN            NaN            NaN            NaN   \n",
       "\n",
       "        1979 [YR1979]  1980 [YR1980]  ...  2001 [YR2001]  2002 [YR2002]  \\\n",
       "132057            NaN            NaN  ...           0.64         0.7284   \n",
       "\n",
       "        2003 [YR2003]  2004 [YR2004]  2005 [YR2005]  2006 [YR2006]  \\\n",
       "132057         0.7813         0.7769         0.8199         0.8255   \n",
       "\n",
       "        2007 [YR2007]  Country Name  Series Code  \\\n",
       "132057         0.8693        Norway         8.16   \n",
       "\n",
       "                                              Series Name  \n",
       "132057  Develop a global partnership for development: ...  \n",
       "\n",
       "[1 rows x 40 columns]"
      ]
     },
     "execution_count": 69,
     "metadata": {},
     "output_type": "execute_result"
    }
   ],
   "source": [
    "data[data['Unnamed: 0']==191809]"
   ]
  },
  {
   "cell_type": "code",
   "execution_count": 68,
   "metadata": {},
   "outputs": [
    {
     "data": {
      "text/html": [
       "<div>\n",
       "<style scoped>\n",
       "    .dataframe tbody tr th:only-of-type {\n",
       "        vertical-align: middle;\n",
       "    }\n",
       "\n",
       "    .dataframe tbody tr th {\n",
       "        vertical-align: top;\n",
       "    }\n",
       "\n",
       "    .dataframe thead th {\n",
       "        text-align: right;\n",
       "    }\n",
       "</style>\n",
       "<table border=\"1\" class=\"dataframe\">\n",
       "  <thead>\n",
       "    <tr style=\"text-align: right;\">\n",
       "      <th></th>\n",
       "      <th></th>\n",
       "      <th>2008 [YR2008]</th>\n",
       "      <th>2012 [YR2012]</th>\n",
       "    </tr>\n",
       "  </thead>\n",
       "  <tbody>\n",
       "    <tr>\n",
       "      <th>500</th>\n",
       "      <td>191809</td>\n",
       "      <td>1030.600586</td>\n",
       "      <td>798.158447</td>\n",
       "    </tr>\n",
       "    <tr>\n",
       "      <th>501</th>\n",
       "      <td>191944</td>\n",
       "      <td>106.530312</td>\n",
       "      <td>96.865707</td>\n",
       "    </tr>\n",
       "    <tr>\n",
       "      <th>502</th>\n",
       "      <td>193087</td>\n",
       "      <td>621.170044</td>\n",
       "      <td>549.753296</td>\n",
       "    </tr>\n",
       "    <tr>\n",
       "      <th>503</th>\n",
       "      <td>193146</td>\n",
       "      <td>260.165710</td>\n",
       "      <td>198.747177</td>\n",
       "    </tr>\n",
       "    <tr>\n",
       "      <th>504</th>\n",
       "      <td>193281</td>\n",
       "      <td>114.861618</td>\n",
       "      <td>91.942055</td>\n",
       "    </tr>\n",
       "  </tbody>\n",
       "</table>\n",
       "</div>"
      ],
      "text/plain": [
       "             2008 [YR2008]  2012 [YR2012]\n",
       "500  191809    1030.600586     798.158447\n",
       "501  191944     106.530312      96.865707\n",
       "502  193087     621.170044     549.753296\n",
       "503  193146     260.165710     198.747177\n",
       "504  193281     114.861618      91.942055"
      ]
     },
     "execution_count": 68,
     "metadata": {},
     "output_type": "execute_result"
    }
   ],
   "source": [
    "result[500:505]"
   ]
  },
  {
   "cell_type": "code",
   "execution_count": null,
   "metadata": {},
   "outputs": [],
   "source": []
  }
 ],
 "metadata": {
  "kernelspec": {
   "display_name": "Python 3",
   "language": "python",
   "name": "python3"
  },
  "language_info": {
   "codemirror_mode": {
    "name": "ipython",
    "version": 3
   },
   "file_extension": ".py",
   "mimetype": "text/x-python",
   "name": "python",
   "nbconvert_exporter": "python",
   "pygments_lexer": "ipython3",
   "version": "3.7.2"
  }
 },
 "nbformat": 4,
 "nbformat_minor": 4
}
